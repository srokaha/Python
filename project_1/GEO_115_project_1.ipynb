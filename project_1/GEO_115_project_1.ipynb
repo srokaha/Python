{
 "cells": [
  {
   "cell_type": "code",
   "execution_count": null,
   "id": "422903f9-34f6-4057-8a1c-2fb6500c417f",
   "metadata": {},
   "outputs": [],
   "source": []
  },
  {
   "cell_type": "markdown",
   "id": "73f61526-4bad-4ce9-9e1c-4abdcf083441",
   "metadata": {},
   "source": [
    "Create a Python script that demonstrates proficiency in basic Python constructs, data structures, and functions, simulating a simple student management system.\n"
   ]
  },
  {
   "cell_type": "markdown",
   "id": "d9c442eb-ea4b-4338-91ca-578cca7e55bb",
   "metadata": {},
   "source": [
    "Create a python script that include: \n",
    "1) At least two custom function for data processing.\n",
    "2) A dictionary to store student information.\n",
    "3) A while loop for the main program flow.\n",
    "4) Conditional Statement (if-elif-if) for menu options.\n",
    "5) User input and output\n",
    "6) Error handling for invalid inputs.\n",
    "   "
   ]
  },
  {
   "cell_type": "markdown",
   "id": "fdfea14f-255e-42f5-acc2-36738ac59b17",
   "metadata": {},
   "source": [
    "Specific Requirements:\n",
    "1.Implment a function to calculate the average of a list of numbers.\n"
   ]
  },
  {
   "cell_type": "code",
   "execution_count": 1,
   "id": "4b1cada6-e390-448c-aa13-c92dfb463576",
   "metadata": {},
   "outputs": [
    {
     "name": "stdout",
     "output_type": "stream",
     "text": [
      "3.0\n"
     ]
    }
   ],
   "source": [
    "numbers=[1,2,3,4,5]\n",
    "def calculate_average(numbers):\n",
    "    if not numbers:\n",
    "        return 0\n",
    "    total = sum(numbers) #This line was incorrectly indented\n",
    "    average = total / len(numbers) #This line was incorrectly indented\n",
    "    return average\n",
    "\n",
    "result = calculate_average(numbers) #Call the function and assign the returned value to a variable\n",
    "print(result) #Print the result"
   ]
  },
  {
   "cell_type": "markdown",
   "id": "cd254339-9198-43d3-9e7f-a565ae1358bf",
   "metadata": {},
   "source": [
    "Create a function to find the maximun and minimum values in a list."
   ]
  },
  {
   "cell_type": "code",
   "execution_count": 2,
   "id": "2d98b932-5c3e-42d5-8d49-f44164033aea",
   "metadata": {},
   "outputs": [
    {
     "name": "stdout",
     "output_type": "stream",
     "text": [
      "Maximum: 5\n",
      "Minimum: 1\n"
     ]
    }
   ],
   "source": [
    "def find_max_min(numbers):\n",
    "  \"\"\"\n",
    "  This function takes a list of numbers and returns the maximum and minimum values.\n",
    "  \"\"\"\n",
    "  if not numbers:\n",
    "    return None, None # Return None for both if the list is empty\n",
    "\n",
    "  max_value = numbers[0] # Initialize max_value with the first element\n",
    "  min_value = numbers[0] # Initialize min_value with the first element\n",
    "\n",
    "  for number in numbers:\n",
    "    if number > max_value:\n",
    "      max_value = number\n",
    "    if number < min_value:\n",
    "      min_value = number\n",
    "\n",
    "  return max_value, min_value # Return both max_value and min_value\n",
    "\n",
    "\n",
    "# Example usage\n",
    "numbers = [1, 2, 3, 4, 5]\n",
    "max_num, min_num = find_max_min(numbers)\n",
    "print(\"Maximum:\", max_num)\n",
    "print(\"Minimum:\", min_num)"
   ]
  },
  {
   "cell_type": "markdown",
   "id": "2f17a27e-fb4e-4ea7-b043-4938ad2a235f",
   "metadata": {},
   "source": [
    "Use a dictionary to store and retrieve students names and address."
   ]
  },
  {
   "cell_type": "code",
   "execution_count": 3,
   "id": "10dde8fe-fec7-4c1f-8efe-40ad805859cc",
   "metadata": {},
   "outputs": [],
   "source": [
    "students = {\n",
    "    \"Kiran\": \"main street\",  \n",
    "    \"Uma\": \"fourth avenue\",\n",
    "    \"Mahi\": \"Mckweon avenue\",\n",
    "    \"Shashank\": \"third avenue\"\n",
    "}"
   ]
  },
  {
   "cell_type": "code",
   "execution_count": 5,
   "id": "b8b6945b-f434-4b5f-bd1d-6158a40e2139",
   "metadata": {},
   "outputs": [
    {
     "name": "stdout",
     "output_type": "stream",
     "text": [
      "Mckweon avenue\n"
     ]
    }
   ],
   "source": [
    "print(students[\"Mahi\"])"
   ]
  },
  {
   "cell_type": "markdown",
   "id": "08425aac-5460-4bc1-849d-92438f144bd0",
   "metadata": {},
   "source": [
    "Implement a menu_driven interface with at least 4 options.\n"
   ]
  },
  {
   "cell_type": "markdown",
   "id": "c95347c2-3af1-48cc-8a9b-0911812785c1",
   "metadata": {},
   "source": [
    "Use a While loop to keep the program running until the user choosen to exit "
   ]
  },
  {
   "cell_type": "markdown",
   "id": "53275493-3203-430c-9680-fcd277ba2385",
   "metadata": {},
   "source": [
    "Use Conditional statements to process user choices"
   ]
  },
  {
   "cell_type": "code",
   "execution_count": null,
   "id": "3efb167c-1f6c-4a3a-acc0-d57a7eb77f80",
   "metadata": {},
   "outputs": [],
   "source": []
  },
  {
   "cell_type": "code",
   "execution_count": 12,
   "id": "6bde2149-7932-48f3-81e7-7e8ba108f501",
   "metadata": {},
   "outputs": [
    {
     "name": "stdout",
     "output_type": "stream",
     "text": [
      "\n",
      "1. Add student\n",
      "2. View student\n",
      "3. Calculate class average\n",
      "4. Exit\n"
     ]
    }
   ],
   "source": [
    "# Dictionary to store student names and scores\n",
    "students= {\n",
    "    \"Kiran\": 95.0,  \n",
    "    \"Uma\": 92.5,\n",
    "    \"Mahi\": 85,\n",
    "    \"Shashank\": 91.75\n",
    "}\n",
    "\n",
    "# Main program\n",
    "while True: #  While true loop use to keep the program running until a break condition is met.\n",
    "    print(\"\\n1. Add student\")\n",
    "    print(\"2. View student\")\n",
    "    print(\"3. Calculate class average\")\n",
    "    print(\"4. Exit\")\n",
    "    \n",
    "    choice = input(\"Enter your choice (1-4): \") # input () function to get user input and print() for output.\n",
    "    \n",
    "    if choice == '1':\n",
    "        name = input(\"Enter student name: \")\n",
    "        score = float(input(\"Enter student score: \")) # Convert user inputs to appropriate data types(e.g., float() for scores)\n",
    "        students[name] = score\n",
    "        print(f\"Added {name} with score {score}\")\n",
    "    \n",
    "    elif choice == '2':\n",
    "        name = input(\"Enter student name to view: \")\n",
    "        if name in students:\n",
    "            print(f\"{name}'s score: {students[name]}\")\n",
    "        else:\n",
    "            print(\"Student not found\")\n",
    "    \n",
    "    elif choice == '3':\n",
    "        if students:\n",
    "            scores = list(students.values()) # to get a list of all values in a dictionaries\n",
    "            avg = calculate_average(scores)\n",
    "            max_score, min_score = find_max_min(scores)\n",
    "            print(f\"Class average: {avg:.2f}\")\n",
    "            print(f\"Highest score: {max_score}\")\n",
    "            print(f\"Lowest score: {min_score}\")\n",
    "        else:\n",
    "            print(\"No students added yet\")\n",
    "    \n",
    "    elif choice == '4':\n",
    "        print(\"Exiting program\")\n",
    "        break\n",
    "    \n",
    "    else:\n",
    "        print(\"Invalid choice. Please try again.\")\n"
   ]
  },
  {
   "cell_type": "markdown",
   "id": "a310cf9d-b3c6-48f3-86d0-48a61d6af0ae",
   "metadata": {},
   "source": [
    "Implement basic error handling (e.g. for invalid menu choices)y"
   ]
  },
  {
   "cell_type": "code",
   "execution_count": null,
   "id": "a7f178f1-1180-41e0-94fc-a2dc8c7522c8",
   "metadata": {},
   "outputs": [],
   "source": []
  },
  {
   "cell_type": "code",
   "execution_count": null,
   "id": "13771dd4-d508-4e9d-b508-3d0c983afcef",
   "metadata": {},
   "outputs": [],
   "source": []
  }
 ],
 "metadata": {
  "kernelspec": {
   "display_name": "base",
   "language": "python",
   "name": "python3"
  },
  "language_info": {
   "codemirror_mode": {
    "name": "ipython",
    "version": 3
   },
   "file_extension": ".py",
   "mimetype": "text/x-python",
   "name": "python",
   "nbconvert_exporter": "python",
   "pygments_lexer": "ipython3",
   "version": "3.12.4"
  }
 },
 "nbformat": 4,
 "nbformat_minor": 5
}
